{
 "cells": [
  {
   "cell_type": "markdown",
   "metadata": {},
   "source": [
    "# PHAS0030 Assignment Week 7\n",
    "\n",
    "Brief intro..."
   ]
  },
  {
   "cell_type": "code",
   "execution_count": null,
   "metadata": {},
   "outputs": [],
   "source": [
    "# Appropriate imports\n",
    "%matplotlib inline\n",
    "import numpy as np\n",
    "import matplotlib.pyplot as plt\n",
    "from mpl_toolkits.mplot3d import Axes3D"
   ]
  },
  {
   "cell_type": "markdown",
   "metadata": {},
   "source": [
    "### 1. Set up the force function\n",
    "\n",
    "You might want a comment..."
   ]
  },
  {
   "cell_type": "code",
   "execution_count": null,
   "metadata": {},
   "outputs": [],
   "source": [
    "def find_forces_LJ(pos,N,sigma,epsilon,boxlen):\n",
    "    \"\"\"Docstring\"\"\"\n",
    "    force = np.zeros((N,3))\n",
    "    energy = 0.0\n",
    "    for i in range(N-1):\n",
    "        for j in range(i+1,N):\n",
    "            ...\n",
    "    return energy, force"
   ]
  },
  {
   "cell_type": "markdown",
   "metadata": {},
   "source": [
    "### 2. Set up the lattice and the simulation parameters\n",
    "\n"
   ]
  },
  {
   "cell_type": "code",
   "execution_count": null,
   "metadata": {},
   "outputs": [],
   "source": [
    "# Initialisation\n",
    "Nsteps = \n",
    "kB = \n",
    "sigma = \n",
    "epsilon = \n",
    "mass = \n",
    "Ncells = \n",
    "boxlen = \n",
    "Npart = \n",
    "rbox3 = \n",
    "vbox3 = \n",
    "count = 0\n",
    "for i in range(Ncells):\n",
    "    for j in range(Ncells):\n",
    "        for k in range(Ncells):\n",
    "            "
   ]
  },
  {
   "cell_type": "code",
   "execution_count": null,
   "metadata": {},
   "outputs": [],
   "source": [
    "# Plot"
   ]
  },
  {
   "cell_type": "markdown",
   "metadata": {},
   "source": [
    "### 3. Initialise velocities"
   ]
  },
  {
   "cell_type": "code",
   "execution_count": null,
   "metadata": {},
   "outputs": [],
   "source": [
    "# Initialise velocities\n",
    "initT  = 50          # K\n",
    "# The initial distribution can have an arbitrary scaling\n",
    "vbox3[0] = \n",
    "# These line rescales the velocities\n",
    "v_scale = \n",
    "vbox3[0] *= v_scale\n",
    "energy = np.zeros(Nsteps)\n",
    "temp = np.zeros(Nsteps)\n",
    "e, f = ...\n",
    "energy[0] = e\n",
    "temp[0] = ...\n",
    "acc = ...\n",
    "dt = 1e-15 # s \n",
    "MSD = ..."
   ]
  },
  {
   "cell_type": "markdown",
   "metadata": {},
   "source": [
    "### 4. Run simulation\n"
   ]
  },
  {
   "cell_type": "code",
   "execution_count": null,
   "metadata": {},
   "outputs": [],
   "source": [
    "for step in ...\n",
    "    rbox3[step] = ...\n",
    "    # Periodic boundaries\n",
    "    rbox3[step] = ...\n",
    "    energy[step], f = ...\n",
    "    acc_next = ...\n",
    "    vbox3[step] = ...\n",
    "    temp[step] = ...\n",
    "    acc = acc_next\n",
    "    # Calculate mean-squared displacement\n",
    "    MSD[step-1] = ...\n",
    "MSD /= Npart"
   ]
  },
  {
   "cell_type": "code",
   "execution_count": null,
   "metadata": {},
   "outputs": [],
   "source": [
    "time = dt*np.arange(1,Nsteps)\n",
    "plt.plot(time,MSD)"
   ]
  },
  {
   "cell_type": "code",
   "execution_count": null,
   "metadata": {},
   "outputs": [],
   "source": [
    "plt.plot(...)"
   ]
  },
  {
   "cell_type": "markdown",
   "metadata": {},
   "source": [
    "### 5. Calculate the integral"
   ]
  },
  {
   "cell_type": "code",
   "execution_count": null,
   "metadata": {},
   "outputs": [],
   "source": [
    "Int = np.zeros(Nsteps)\n",
    "for step in range(1,Nsteps):\n",
    "    Int[step] = Int[step-1] + ...\n",
    "..."
   ]
  },
  {
   "cell_type": "markdown",
   "metadata": {},
   "source": [
    "## Conclusion\n",
    "..."
   ]
  },
  {
   "cell_type": "code",
   "execution_count": null,
   "metadata": {},
   "outputs": [],
   "source": []
  }
 ],
 "metadata": {
  "kernelspec": {
   "display_name": "phas0030",
   "language": "python",
   "name": "python3"
  },
  "language_info": {
   "codemirror_mode": {
    "name": "ipython",
    "version": 3
   },
   "file_extension": ".py",
   "mimetype": "text/x-python",
   "name": "python",
   "nbconvert_exporter": "python",
   "pygments_lexer": "ipython3",
   "version": "3.10.8"
  },
  "vscode": {
   "interpreter": {
    "hash": "4518af48748a97daa55501d20bc1e926409bd0a2fb582210d86abfca2c7c5dfa"
   }
  }
 },
 "nbformat": 4,
 "nbformat_minor": 2
}
