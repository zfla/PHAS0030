{
 "cells": [
  {
   "cell_type": "markdown",
   "metadata": {},
   "source": [
    "# Modelling the orbits of planets\n",
    "## 21018444\n",
    "\n",
    "## Introduction\n",
    "\n",
    "In this task, I have used Newton's law of universal gravitation to model the orbits of planets under various different circumstances. After setting up a model with two planets, I moved on to create a model with a planet and its moon, both orbiting a star.\n",
    "\n"
   ]
  },
  {
   "cell_type": "code",
   "execution_count": 1,
   "metadata": {},
   "outputs": [
    {
     "data": {
      "text/html": [
       "<div id=\"glowscript\" class=\"glowscript\"></div>"
      ],
      "text/plain": [
       "<IPython.core.display.HTML object>"
      ]
     },
     "metadata": {},
     "output_type": "display_data"
    },
    {
     "data": {
      "application/javascript": "if (typeof Jupyter !== \"undefined\") { window.__context = { glowscript_container: $(\"#glowscript\").removeAttr(\"id\")};}else{ element.textContent = ' ';}",
      "text/plain": [
       "<IPython.core.display.Javascript object>"
      ]
     },
     "metadata": {},
     "output_type": "display_data"
    }
   ],
   "source": [
    "from vpython import vector, mag, sphere, rate, color, canvas, cross\n",
    "from math import sqrt\n",
    "G = 1.      # gravitational constant [using units where gravitational constant is 1.0]"
   ]
  },
  {
   "cell_type": "markdown",
   "metadata": {},
   "source": [
    "## Part A"
   ]
  },
  {
   "cell_type": "markdown",
   "metadata": {},
   "source": [
    "### 1. Calculating the gravitational force between two objects\n",
    "\n",
    "You should complete the following function, without changing its name, arguments or docstring, to calculate the force on one object due to the gravitational field of another. Note that we are using units where the gravitational constant G has the value 1, so masses and times are also given in non-standard units.\n",
    "\n",
    "I started this section by creating a function that returned the force between two objects using Newton's law of universal gravitation (Waugh et al., 2021):\n",
    "\n",
    "> (1): $ F = \\frac{GM_{1} M_{2}}{r^{2}} $ "
   ]
  },
  {
   "cell_type": "code",
   "execution_count": 2,
   "metadata": {},
   "outputs": [],
   "source": [
    "def force(pos1, pos2, m1, m2):\n",
    "    \"\"\"\n",
    "    Returns the gravitational force exerted by object 2 on object 1.\n",
    "    Input:\n",
    "      - pos1 = position vector of first object\n",
    "      - pos2 = position vector of second object\n",
    "      - m1   = mass of first object\n",
    "      - m2   = mass of second object\n",
    "    Depends on:\n",
    "      - G    = gravitational constant (global variable)\n",
    "    \"\"\"\n",
    "    \n",
    "    # Equation (1)\n",
    "    return -(G*m1*m2 / (mag(pos2-pos1))**2) * (pos1-pos2) / mag(pos1-pos2)"
   ]
  },
  {
   "cell_type": "markdown",
   "metadata": {},
   "source": [
    "#### Testing your function\n",
    "\n",
    "The following cell applies some tests to help you make sure your `force` function works correctly before you use it in the rest of the task. You do not need to understand the details of how it works, but it may help you narrow down any bugs in your code. If each line of output starts with `OK` then it is likely (but not guaranteed) that you have implemented the function correctly.\n",
    "\n",
    "Please leave the code in this cell unchanged: you may add your own tests if you wish, but these should be in a separate cell."
   ]
  },
  {
   "cell_type": "code",
   "execution_count": 3,
   "metadata": {},
   "outputs": [
    {
     "name": "stdout",
     "output_type": "stream",
     "text": [
      "OK: correct results for input (<0, 0, 0>, <1, 0, 0>, 1, 1)\n",
      "OK: correct results for input (<1, 0, 0>, <0, 0, 0>, 1, 1)\n",
      "OK: correct results for input (<0, 0, 0>, <2, 0, 0>, 1, 1)\n",
      "OK: correct results for input (<0, 0, 0>, <0, 1, 0>, 1, 1)\n",
      "OK: correct results for input (<10, 0, 0>, <10, 1, 0>, 1, 1)\n",
      "OK: correct results for input (<0, 0, 0>, <1, 0, 0>, 2, 1)\n",
      "OK: correct results for input (<0, 0, 0>, <1, 0, 0>, 1, 2)\n"
     ]
    }
   ],
   "source": [
    "################################################\n",
    "#                                              #\n",
    "# Test force is correct in a few simple cases. #\n",
    "#                                              #\n",
    "#   DO NOT CHANGE THE CODE IN THIS CELL.       #\n",
    "#                                              #\n",
    "################################################\n",
    "\n",
    "def test_force(pos1, pos2, m1, m2, expected_force):\n",
    "    epsilon = 1e-10\n",
    "    f = force(pos1, pos2, m1, m2)\n",
    "    if not isinstance(f,vector):\n",
    "        print(f\"ERROR: function should return a vector but returns {f}.\")\n",
    "        return\n",
    "    args_as_string = f\"({pos1}, {pos2}, {m1}, {m2})\"\n",
    "    error = mag(f-expected_force)\n",
    "    if error<epsilon:\n",
    "        print(f\"OK: correct results for input {args_as_string}\")\n",
    "    else:\n",
    "        print(f\"ERROR: wrong results for input {args_as_string}\")\n",
    "        print(f\"  expected: {expected_force}\")\n",
    "        print(f\"  got:      {f}\")\n",
    "\n",
    "test_force(vector(0,0,0),vector(1,0,0),1,1,vector(1,0,0))    # distance = 1 in x direction\n",
    "test_force(vector(1,0,0),vector(0,0,0),1,1,vector(-1,0,0))   # swap objects\n",
    "test_force(vector(0,0,0),vector(2,0,0),1,1,vector(0.25,0,0)) # distance = 2\n",
    "test_force(vector(0,0,0),vector(0,1,0),1,1,vector(0,1,0))    # distance = 1 in y direction\n",
    "test_force(vector(10,0,0),vector(10,1,0),1,1,vector(0,1,0))  # displaced from origin\n",
    "test_force(vector(0,0,0),vector(1,0,0),2,1,vector(2,0,0))    # non-unit mass 1\n",
    "test_force(vector(0,0,0),vector(1,0,0),1,2,vector(2,0,0))    # non-unit mass 2"
   ]
  },
  {
   "cell_type": "markdown",
   "metadata": {},
   "source": [
    "### 2. Calculating the motion of a planet in the gravitational field of a star\n",
    "\n",
    "You should complete the following function, without changing its name, arguments or docstring, to calculate the new position and velocity of a planet after a time step `dt`, in the gravitational field of a star of a given mass situated at the origin. This function will need to call `force` to calculate the acceleration vector of the planet.\n",
    "\n",
    "The function below then allowed me to determine the change in velocity and position over a set time period '$dt$', and this was created from the numerical conversion of Newton's law of universal gravitation (Waugh et al., 2021):\n",
    "\n",
    "> (2): $ \\delta v = \\frac{F_{Mm}}{m} \\delta t $ \n",
    "<br>\n",
    "> (3): $ \\delta r = v \\delta t $\n",
    "<br>\n",
    "> (4): $ r(t+\\delta t) = r(t) + v \\delta t $ \n",
    "<br>\n",
    "> (5): $ v(t+\\delta t) = v(t) + \\delta v $"
   ]
  },
  {
   "cell_type": "code",
   "execution_count": 4,
   "metadata": {},
   "outputs": [],
   "source": [
    "def move_planet(position, velocity, m_star, dt):\n",
    "    \"\"\"\n",
    "    Calculate motion of planet in the gravitational field of a star with given mass\n",
    "    at the origin, using Euler's method.\n",
    "    \n",
    "    Input:\n",
    "      - position: position vector of planet at start of time step\n",
    "      - velocity: velocity vector of planet at start of time step\n",
    "      - m_star:   mass of star\n",
    "      - dt:       time step\n",
    "      \n",
    "    Output: (position_new, velocity_new)\n",
    "      - position_new: position vector of planet at end of time step\n",
    "      - velocity_new: velocity vector of planet at end of time step\n",
    "      \n",
    "    Depends on:\n",
    "      - force = function to calculate the gravitational force between two objects\n",
    "    \"\"\"\n",
    "    \n",
    "    # The mass of object 1 (the planet) is defined as 1 since\n",
    "    # it is cancelled out in the equation above\n",
    "    \n",
    "    dv = force(position, vector(0,0,0), 1, m_star) * dt # Equation (2)\n",
    "    velocity_new = velocity + dv # Equation (5)\n",
    "    position_new = position + velocity*dt # Equation (3)/(4)\n",
    "    \n",
    "    return position_new, velocity_new\n",
    "    \n",
    "    \n",
    "    "
   ]
  },
  {
   "cell_type": "markdown",
   "metadata": {},
   "source": [
    "#### Testing your function\n",
    "\n",
    "The following cell applies some tests to help you make sure your `move_planet` function works correctly before you use it in the rest of the task. You do not need to understand the details of how it works, but it may help you narrow down any bugs in your code. If each line of output starts with `OK` then it is likely (but not guaranteed) that you have implemented the function correctly.\n",
    "\n",
    "Please leave the code in this cell unchanged: you may add your own tests if you wish, but these should be in a separate cell. "
   ]
  },
  {
   "cell_type": "code",
   "execution_count": 5,
   "metadata": {},
   "outputs": [
    {
     "name": "stdout",
     "output_type": "stream",
     "text": [
      "OK: correct results for input <1, 0, 0>, <1, 0, 0>, 1, 0\n",
      "OK: correct results for input <1, 0, 0>, <1, 0, 0>, 1, 1\n",
      "OK: correct results for input <0, 1, 0>, <0, -1, 0>, 1, 1\n",
      "OK: correct results for input <1, 0, 0>, <0, 1, 0>, 1, 1\n",
      "OK: correct results for input <1, 0, 0>, <0, 1, 0>, 1, 0.1\n",
      "OK: correct results for input <1, 0, 0>, <0, 1, 0>, 2, 0.1\n",
      "OK: correct results for input <2, 0, 0>, <1, 0, 0>, 1, 1\n"
     ]
    }
   ],
   "source": [
    "######################################################\n",
    "#                                                    #\n",
    "# Test move_planet is correct in a few simple cases. #\n",
    "#                                                    #\n",
    "#   DO NOT CHANGE THE CODE IN THIS CELL.             #\n",
    "#                                                    #\n",
    "######################################################\n",
    "\n",
    "def test_move_planet(position, velocity, m_star, dt, expected_pos, expected_vel):\n",
    "    epsilon = 1e-10\n",
    "    results = move_planet(position, velocity, m_star, dt)\n",
    "    if not isinstance(results, tuple):\n",
    "        print(f\"ERROR: function should return two vectors but returns {results}.\")\n",
    "        return\n",
    "    if not len(results)==2:\n",
    "        print(f\"ERROR: function should return two vectors but returns {results}.\")\n",
    "        return\n",
    "    pos, vel = results\n",
    "    if not (isinstance(pos,vector) and isinstance(vel,vector)):\n",
    "        print(f\"ERROR: function should return two vectors but returns {results}.\")\n",
    "        return\n",
    "    args_as_string = f\"{position}, {velocity}, {m_star}, {dt}\"\n",
    "    err_pos, err_vel = mag(pos - expected_pos), mag(vel - expected_vel)\n",
    "    if err_pos < epsilon and err_vel < epsilon:\n",
    "        print(f\"OK: correct results for input {args_as_string}\")\n",
    "    else:\n",
    "        print(f\"ERROR: wrong results for input {args_as_string}\")\n",
    "        print(f\"  expected: {expected_pos, expected_vel}\")\n",
    "        print(f\"  got:      {results}\")\n",
    "\n",
    "\n",
    "test_move_planet(vector(1,0,0), vector(1,0,0), 1, 0, vector(1,0,0), vector(1,0,0))    # dt = 0: output = input\n",
    "test_move_planet(vector(1,0,0), vector(1,0,0), 1, 1, vector(2,0,0), vector(0,0,0))    # moving away from star\n",
    "test_move_planet(vector(0,1,0), vector(0,-1,0), 1, 1, vector(0,0,0), vector(0,-2,0))  # moving towards star\n",
    "test_move_planet(vector(1,0,0), vector(0,1,0), 1, 1, vector(1,1,0), vector(-1,1,0))   # moving past star\n",
    "test_move_planet(vector(1,0,0), vector(0,1,0), 1, 0.1, vector(1,0.1,0), vector(-0.1,1,0))  # smaller dt\n",
    "test_move_planet(vector(1,0,0), vector(0,1,0), 2, 0.1, vector(1,0.1,0), vector(-0.2,1,0))  # larger star mass\n",
    "test_move_planet(vector(2,0,0), vector(1,0,0), 1, 1, vector(3,0,0), vector(0.75,0,0)) # non-unit distance"
   ]
  },
  {
   "cell_type": "markdown",
   "metadata": {},
   "source": [
    "### 3. Animating the orbit of a planet\n",
    "\n",
    "With the function `move_planet` created and tested, I was able to now create function which iterated to animate the planet's orbit. I took a similar approach to earlier tasks, namely task 9."
   ]
  },
  {
   "cell_type": "code",
   "execution_count": 6,
   "metadata": {},
   "outputs": [],
   "source": [
    "# Adapted code from PHAS0007, Module 9, 21018444\n",
    "\n",
    "def animate_planet(position, velocity, m_star, dt):\n",
    "    \"\"\"\n",
    "    Animate planetary orbit from given starting position, with given time step.\n",
    "    \n",
    "    Input:\n",
    "      - position: position vector of planet at start of simulation\n",
    "      - velocity: velocity vector of planet at start of simulation\n",
    "      - m_star:   mass of star\n",
    "      - dt:       time step\n",
    "    \"\"\"\n",
    "    \n",
    "    # Generating planet shapes\n",
    "    planet = sphere(pos=position, color=color.red, radius=0.05, make_trail=True)\n",
    "    \n",
    "    # Setting up parameters\n",
    "    fps = 1/dt\n",
    "    time = 0\n",
    "    \n",
    "    # Iterating over a set period to repeatedly update the plenet's position, using move_planet\n",
    "    # fps and max time (previously 10) were both divided by 10 to yield a smoother animation\n",
    "    while time < 1: \n",
    "        rate(fps/10)\n",
    "        position, velocity = move_planet(planet.pos, velocity, m_star, dt)\n",
    "        planet.pos = position\n",
    "        time += dt"
   ]
  },
  {
   "cell_type": "markdown",
   "metadata": {},
   "source": [
    "#### Testing function\n",
    "\n",
    "The function was tested below here, yielding a relatively smooth animation and an almost perfect circular orbit. The animation also ran close to the target runtime of 10 seconds."
   ]
  },
  {
   "cell_type": "code",
   "execution_count": 7,
   "metadata": {
    "scrolled": false
   },
   "outputs": [
    {
     "data": {
      "text/html": [
       "<div id=\"glowscript\" class=\"glowscript\"></div>"
      ],
      "text/plain": [
       "<IPython.core.display.HTML object>"
      ]
     },
     "metadata": {},
     "output_type": "display_data"
    },
    {
     "data": {
      "application/javascript": "if (typeof Jupyter !== \"undefined\") { window.__context = { glowscript_container: $(\"#glowscript\").removeAttr(\"id\")};}else{ element.textContent = ' ';}",
      "text/plain": [
       "<IPython.core.display.Javascript object>"
      ]
     },
     "metadata": {},
     "output_type": "display_data"
    },
    {
     "data": {
      "application/javascript": "if (typeof Jupyter !== \"undefined\") {require.undef(\"nbextensions/vpython_libraries/glow.min\");}else{element.textContent = ' ';}",
      "text/plain": [
       "<IPython.core.display.Javascript object>"
      ]
     },
     "metadata": {},
     "output_type": "display_data"
    },
    {
     "data": {
      "application/javascript": "if (typeof Jupyter !== \"undefined\") {require.undef(\"nbextensions/vpython_libraries/glowcomm\");}else{element.textContent = ' ';}",
      "text/plain": [
       "<IPython.core.display.Javascript object>"
      ]
     },
     "metadata": {},
     "output_type": "display_data"
    },
    {
     "data": {
      "application/javascript": "if (typeof Jupyter !== \"undefined\") {require.undef(\"nbextensions/vpython_libraries/jquery-ui.custom.min\");}else{element.textContent = ' ';}",
      "text/plain": [
       "<IPython.core.display.Javascript object>"
      ]
     },
     "metadata": {},
     "output_type": "display_data"
    },
    {
     "data": {
      "application/javascript": "if (typeof Jupyter !== \"undefined\") {require([\"nbextensions/vpython_libraries/glow.min\"], function(){console.log(\"GLOW LOADED\");});}else{element.textContent = ' ';}",
      "text/plain": [
       "<IPython.core.display.Javascript object>"
      ]
     },
     "metadata": {},
     "output_type": "display_data"
    },
    {
     "data": {
      "application/javascript": "if (typeof Jupyter !== \"undefined\") {require([\"nbextensions/vpython_libraries/glowcomm\"], function(){console.log(\"GLOWCOMM LOADED\");});}else{element.textContent = ' ';}",
      "text/plain": [
       "<IPython.core.display.Javascript object>"
      ]
     },
     "metadata": {},
     "output_type": "display_data"
    },
    {
     "data": {
      "application/javascript": "if (typeof Jupyter !== \"undefined\") {require([\"nbextensions/vpython_libraries/jquery-ui.custom.min\"], function(){console.log(\"JQUERY LOADED\");});}else{element.textContent = ' ';}",
      "text/plain": [
       "<IPython.core.display.Javascript object>"
      ]
     },
     "metadata": {},
     "output_type": "display_data"
    }
   ],
   "source": [
    "# Initialize canvas, and set parameters of star and planet.\n",
    "canvas()\n",
    "pos_planet = vector(0,2,0)   # initial position of planet\n",
    "v_planet   = vector(-22,0,0) # initial velocity of planet\n",
    "m_star     = 1000.           # mass of star (units where G=1)\n",
    "sphere(pos=vector(0,0,0), color=color.yellow, radius=0.1) # draw star\n",
    "\n",
    "# Animate orbit of planet\n",
    "animate_planet(pos_planet, v_planet, m_star, 1e-4)"
   ]
  },
  {
   "cell_type": "markdown",
   "metadata": {},
   "source": [
    "### 4. Investigation\n",
    "\n",
    "You should insert code and text cells below as required to investigate and discuss the effect of changing the parameters of the animation: time step, mass of star, initial position and velocity of planet. "
   ]
  },
  {
   "cell_type": "markdown",
   "metadata": {},
   "source": [
    "#### Altering time step"
   ]
  },
  {
   "cell_type": "code",
   "execution_count": 8,
   "metadata": {
    "scrolled": true
   },
   "outputs": [
    {
     "data": {
      "text/html": [
       "<div id=\"glowscript\" class=\"glowscript\"></div>"
      ],
      "text/plain": [
       "<IPython.core.display.HTML object>"
      ]
     },
     "metadata": {},
     "output_type": "display_data"
    },
    {
     "data": {
      "application/javascript": "if (typeof Jupyter !== \"undefined\") { window.__context = { glowscript_container: $(\"#glowscript\").removeAttr(\"id\")};}else{ element.textContent = ' ';}",
      "text/plain": [
       "<IPython.core.display.Javascript object>"
      ]
     },
     "metadata": {},
     "output_type": "display_data"
    }
   ],
   "source": [
    "# Increasing time step\n",
    "\n",
    "# Initialize canvas, and set parameters of star and planet.\n",
    "canvas()\n",
    "pos_planet = vector(0,2,0)   # initial position of planet\n",
    "v_planet   = vector(-22,0,0) # initial velocity of planet\n",
    "m_star     = 1000.           # mass of star (units where G=1)\n",
    "sphere(pos=vector(0,0,0), color=color.yellow, radius=0.1) # draw star\n",
    "\n",
    "# Animate orbit of planet\n",
    "animate_planet(pos_planet, v_planet, m_star, 1e-2) "
   ]
  },
  {
   "cell_type": "code",
   "execution_count": 9,
   "metadata": {
    "scrolled": true
   },
   "outputs": [
    {
     "data": {
      "text/html": [
       "<div id=\"glowscript\" class=\"glowscript\"></div>"
      ],
      "text/plain": [
       "<IPython.core.display.HTML object>"
      ]
     },
     "metadata": {},
     "output_type": "display_data"
    },
    {
     "data": {
      "application/javascript": "if (typeof Jupyter !== \"undefined\") { window.__context = { glowscript_container: $(\"#glowscript\").removeAttr(\"id\")};}else{ element.textContent = ' ';}",
      "text/plain": [
       "<IPython.core.display.Javascript object>"
      ]
     },
     "metadata": {},
     "output_type": "display_data"
    }
   ],
   "source": [
    "# Decreasing time step\n",
    "\n",
    "# Initialize canvas, and set parameters of star and planet.\n",
    "canvas()\n",
    "pos_planet = vector(0,2,0)   # initial position of planet\n",
    "v_planet   = vector(-22,0,0) # initial velocity of planet\n",
    "m_star     = 1000.           # mass of star (units where G=1)\n",
    "sphere(pos=vector(0,0,0), color=color.yellow, radius=0.1) # draw star\n",
    "\n",
    "# Animate orbit of planet\n",
    "animate_planet(pos_planet, v_planet, m_star, 1e-7)"
   ]
  },
  {
   "cell_type": "markdown",
   "metadata": {},
   "source": [
    "Increasing time step generally led to a more jagged model, but the model ran faster as a result. Decreasing the time step yields a much smoother path, at the expense of a smooth animation; stuttering was common when doing this, with the run-time often exceeding the target of 10 seconds as well. "
   ]
  },
  {
   "cell_type": "markdown",
   "metadata": {},
   "source": [
    "#### Altering mass of star"
   ]
  },
  {
   "cell_type": "code",
   "execution_count": 27,
   "metadata": {},
   "outputs": [
    {
     "data": {
      "text/html": [
       "<div id=\"glowscript\" class=\"glowscript\"></div>"
      ],
      "text/plain": [
       "<IPython.core.display.HTML object>"
      ]
     },
     "metadata": {},
     "output_type": "display_data"
    },
    {
     "data": {
      "application/javascript": "if (typeof Jupyter !== \"undefined\") { window.__context = { glowscript_container: $(\"#glowscript\").removeAttr(\"id\")};}else{ element.textContent = ' ';}",
      "text/plain": [
       "<IPython.core.display.Javascript object>"
      ]
     },
     "metadata": {},
     "output_type": "display_data"
    }
   ],
   "source": [
    "# Increasing the mass of the star\n",
    "\n",
    "# Initialize canvas, and set parameters of star and planet.\n",
    "canvas()\n",
    "pos_planet = vector(0,2,0)   # initial position of planet\n",
    "v_planet   = vector(-22,0,0) # initial velocity of planet\n",
    "m_star     = 5000.           # mass of star (units where G=1)\n",
    "sphere(pos=vector(0,0,0), color=color.yellow, radius=0.1) # draw star\n",
    "\n",
    "# Animate orbit of planet\n",
    "animate_planet(pos_planet, v_planet, m_star, 1e-4)"
   ]
  },
  {
   "cell_type": "code",
   "execution_count": 25,
   "metadata": {
    "scrolled": true
   },
   "outputs": [
    {
     "data": {
      "text/html": [
       "<div id=\"glowscript\" class=\"glowscript\"></div>"
      ],
      "text/plain": [
       "<IPython.core.display.HTML object>"
      ]
     },
     "metadata": {},
     "output_type": "display_data"
    },
    {
     "data": {
      "application/javascript": "if (typeof Jupyter !== \"undefined\") { window.__context = { glowscript_container: $(\"#glowscript\").removeAttr(\"id\")};}else{ element.textContent = ' ';}",
      "text/plain": [
       "<IPython.core.display.Javascript object>"
      ]
     },
     "metadata": {},
     "output_type": "display_data"
    }
   ],
   "source": [
    "# Decreasing the mass of the star\n",
    "\n",
    "# Initialize canvas, and set parameters of star and planet.\n",
    "canvas()\n",
    "pos_planet = vector(0,2,0)   # initial position of planet\n",
    "v_planet   = vector(-22,0,0) # initial velocity of planet\n",
    "m_star     = 500.            # mass of star (units where G=1)\n",
    "sphere(pos=vector(0,0,0), color=color.yellow, radius=0.1) # draw star\n",
    "\n",
    "# Animate orbit of planet\n",
    "animate_planet(pos_planet, v_planet, m_star, 1e-4)"
   ]
  },
  {
   "cell_type": "markdown",
   "metadata": {},
   "source": [
    "As the mass of the star was altered both ways, the shapes of the orbits changed significantly. This is makes sense intuitively, since changing the mass of the star affects the gravitational force exerted on the planet. Within a rough range of 1/2 to 5 times the mass, the planet will still manage to complete an orbit around the star."
   ]
  },
  {
   "cell_type": "markdown",
   "metadata": {},
   "source": [
    "#### Altering initial position"
   ]
  },
  {
   "cell_type": "code",
   "execution_count": 12,
   "metadata": {
    "scrolled": true
   },
   "outputs": [
    {
     "data": {
      "text/html": [
       "<div id=\"glowscript\" class=\"glowscript\"></div>"
      ],
      "text/plain": [
       "<IPython.core.display.HTML object>"
      ]
     },
     "metadata": {},
     "output_type": "display_data"
    },
    {
     "data": {
      "application/javascript": "if (typeof Jupyter !== \"undefined\") { window.__context = { glowscript_container: $(\"#glowscript\").removeAttr(\"id\")};}else{ element.textContent = ' ';}",
      "text/plain": [
       "<IPython.core.display.Javascript object>"
      ]
     },
     "metadata": {},
     "output_type": "display_data"
    }
   ],
   "source": [
    "# Moving closer to the star\n",
    "\n",
    "# Initialize canvas, and set parameters of star and planet.\n",
    "canvas()\n",
    "pos_planet = vector(0,1,0)   # initial position of planet\n",
    "v_planet   = vector(-22,0,0) # initial velocity of planet\n",
    "m_star     = 1000.           # mass of star (units where G=1)\n",
    "sphere(pos=vector(0,0,0), color=color.yellow, radius=0.1) # draw star\n",
    "\n",
    "# Animate orbit of planet\n",
    "animate_planet(pos_planet, v_planet, m_star, 1e-4)"
   ]
  },
  {
   "cell_type": "code",
   "execution_count": 13,
   "metadata": {},
   "outputs": [
    {
     "data": {
      "text/html": [
       "<div id=\"glowscript\" class=\"glowscript\"></div>"
      ],
      "text/plain": [
       "<IPython.core.display.HTML object>"
      ]
     },
     "metadata": {},
     "output_type": "display_data"
    },
    {
     "data": {
      "application/javascript": "if (typeof Jupyter !== \"undefined\") { window.__context = { glowscript_container: $(\"#glowscript\").removeAttr(\"id\")};}else{ element.textContent = ' ';}",
      "text/plain": [
       "<IPython.core.display.Javascript object>"
      ]
     },
     "metadata": {},
     "output_type": "display_data"
    }
   ],
   "source": [
    "# Moving away from the star\n",
    "\n",
    "# Initialize canvas, and set parameters of star and planet.\n",
    "canvas()\n",
    "pos_planet = vector(0,3,0)   # initial position of planet\n",
    "v_planet   = vector(-22,0,0) # initial velocity of planet\n",
    "m_star     = 1000.           # mass of star (units where G=1)\n",
    "sphere(pos=vector(0,0,0), color=color.yellow, radius=0.1) # draw star\n",
    "\n",
    "# Animate orbit of planet\n",
    "animate_planet(pos_planet, v_planet, m_star, 1e-4)"
   ]
  },
  {
   "cell_type": "markdown",
   "metadata": {},
   "source": [
    "I noticed that moving the planet closer and further from the star had a very similar effect to increasing and decreasing the mass of the star respectively. This also makes intuitive sense, since the inverse square law (associated with gravitational forces) states that force is inversely proportional to the square of distance. By bringing the planet closer, or further away, we therefore increased or decreased the gravitational force, replicating the effect of increasing the mass of the star."
   ]
  },
  {
   "cell_type": "markdown",
   "metadata": {},
   "source": [
    "#### Altering the velocity of the planet"
   ]
  },
  {
   "cell_type": "code",
   "execution_count": 14,
   "metadata": {},
   "outputs": [
    {
     "data": {
      "text/html": [
       "<div id=\"glowscript\" class=\"glowscript\"></div>"
      ],
      "text/plain": [
       "<IPython.core.display.HTML object>"
      ]
     },
     "metadata": {},
     "output_type": "display_data"
    },
    {
     "data": {
      "application/javascript": "if (typeof Jupyter !== \"undefined\") { window.__context = { glowscript_container: $(\"#glowscript\").removeAttr(\"id\")};}else{ element.textContent = ' ';}",
      "text/plain": [
       "<IPython.core.display.Javascript object>"
      ]
     },
     "metadata": {},
     "output_type": "display_data"
    }
   ],
   "source": [
    "# Increasing velocity (magnitude)\n",
    "\n",
    "# Initialize canvas, and set parameters of star and planet.\n",
    "canvas()\n",
    "pos_planet = vector(0,2,0)   # initial position of planet\n",
    "v_planet   = vector(-30,0,0) # initial velocity of planet\n",
    "m_star     = 1000.           # mass of star (units where G=1)\n",
    "sphere(pos=vector(0,0,0), color=color.yellow, radius=0.1) # draw star\n",
    "\n",
    "# Animate orbit of planet\n",
    "animate_planet(pos_planet, v_planet, m_star, 1e-4)"
   ]
  },
  {
   "cell_type": "code",
   "execution_count": 15,
   "metadata": {
    "scrolled": true
   },
   "outputs": [
    {
     "data": {
      "text/html": [
       "<div id=\"glowscript\" class=\"glowscript\"></div>"
      ],
      "text/plain": [
       "<IPython.core.display.HTML object>"
      ]
     },
     "metadata": {},
     "output_type": "display_data"
    },
    {
     "data": {
      "application/javascript": "if (typeof Jupyter !== \"undefined\") { window.__context = { glowscript_container: $(\"#glowscript\").removeAttr(\"id\")};}else{ element.textContent = ' ';}",
      "text/plain": [
       "<IPython.core.display.Javascript object>"
      ]
     },
     "metadata": {},
     "output_type": "display_data"
    }
   ],
   "source": [
    "# Decreasing velocity (magnitude)\n",
    "\n",
    "# Initialize canvas, and set parameters of star and planet.\n",
    "canvas()\n",
    "pos_planet = vector(0,2,0)   # initial position of planet\n",
    "v_planet   = vector(-10,0,0) # initial velocity of planet\n",
    "m_star     = 1000.           # mass of star (units where G=1)\n",
    "sphere(pos=vector(0,0,0), color=color.yellow, radius=0.1) # draw star\n",
    "\n",
    "# Animate orbit of planet\n",
    "animate_planet(pos_planet, v_planet, m_star, 1e-4)"
   ]
  },
  {
   "cell_type": "markdown",
   "metadata": {},
   "source": [
    "Similarly to the two changes before this one, there is the same pattern of changing orbital shape, except increasing the velocity results in a similar pattern to decreasing mass and increasing distance. This makes sense because increasing the velocity past the 'escape velocity' will allow the planet to escape the gravitational pull of the star altogether, but decreasing it past the 'orbital velocity' will cause the planet to move out of a stable orbit."
   ]
  },
  {
   "cell_type": "markdown",
   "metadata": {},
   "source": [
    "## Part B"
   ]
  },
  {
   "cell_type": "markdown",
   "metadata": {},
   "source": [
    "### 1. Simultating two planets in orbit (forces between them neglected)\n",
    "Moving onto Part B, I began by generating a new function `animate_planet2`, which was very similar to the original function `animate_planet`, but this function allowed for two inputs of planetary data. As such, I was able to animate two planets at once.\n"
   ]
  },
  {
   "cell_type": "code",
   "execution_count": 16,
   "metadata": {},
   "outputs": [],
   "source": [
    "def animate_planet2(position1, velocity1, position2, velocity2, m_star, dt):\n",
    "    \"\"\"\n",
    "    Animate planetary orbit from given starting position, with given time step.\n",
    "    \n",
    "    Input:\n",
    "      - position1: position vector of planet 1 at start of simulation\n",
    "      - velocity1: velocity vector of planet 1 at start of simulation\n",
    "      - position2: position vector of planet 2 at start of simulation\n",
    "      - velocity2: velocity vector of planet 2 at start of simulation\n",
    "      - m_star:   mass of star\n",
    "      - dt:       time step\n",
    "    \"\"\"\n",
    "\n",
    "    # Generating planet shapes\n",
    "    planet1 = sphere(pos=position1, color=color.red, radius=0.05, make_trail=True)\n",
    "    planet2 = sphere(pos=position2, color=color.blue, radius=0.05, make_trail=True)\n",
    "    \n",
    "    # Parameters for the loop\n",
    "    fps = 1/dt\n",
    "    time = 0\n",
    "\n",
    "    # Iterating over a set period to repeatedly update the plenet's position, using move_planet\n",
    "    while time < 1: \n",
    "        rate(fps/10)\n",
    "        position1, velocity1 = move_planet(planet1.pos, velocity1, m_star, dt)\n",
    "        position2, velocity2 = move_planet(planet2.pos, velocity2, m_star, dt)\n",
    "        planet1.pos = position1\n",
    "        planet2.pos = position2\n",
    "        time += dt"
   ]
  },
  {
   "cell_type": "code",
   "execution_count": 17,
   "metadata": {},
   "outputs": [
    {
     "data": {
      "text/html": [
       "<div id=\"glowscript\" class=\"glowscript\"></div>"
      ],
      "text/plain": [
       "<IPython.core.display.HTML object>"
      ]
     },
     "metadata": {},
     "output_type": "display_data"
    },
    {
     "data": {
      "application/javascript": "if (typeof Jupyter !== \"undefined\") { window.__context = { glowscript_container: $(\"#glowscript\").removeAttr(\"id\")};}else{ element.textContent = ' ';}",
      "text/plain": [
       "<IPython.core.display.Javascript object>"
      ]
     },
     "metadata": {},
     "output_type": "display_data"
    }
   ],
   "source": [
    "# Initialize canvas, and set parameters of star and planet.\n",
    "canvas()\n",
    "pos_planet1 = vector(1.85,0,0)   # initial position of planet 1\n",
    "v_planet1   = vector(0,23.25,0) # initial velocity of planet 1\n",
    "pos_planet2 = vector(1.96,0.4,0)   # initial position of planet 2\n",
    "v_planet2   = vector(-4.44,21.9,0) # initial velocity of planet 2\n",
    "m_star     = 1000.           # mass of star (units where G=1)\n",
    "sphere(pos=vector(0,0,0), color=color.yellow, radius=0.1) # draw star\n",
    "\n",
    "# Animate orbit of planet\n",
    "animate_planet2(pos_planet1, v_planet1, pos_planet2, v_planet2, m_star, 1e-4)"
   ]
  },
  {
   "cell_type": "markdown",
   "metadata": {},
   "source": [
    "Without the forces considered, the planets both orbit with perfect circular orbits. This is to be expected, since the only force is the central force from the star to both planets, so uniform circular motion takes place."
   ]
  },
  {
   "cell_type": "markdown",
   "metadata": {},
   "source": [
    "### 2. Simulating two planets in orbit (forces between them considered)\n",
    "Since I would be considering the forces between both planets, I had to create a new function `move_planet2`. This function allowed me to calculate the changes in position and velocity for both planets. Equation (2) was altered to allow for the extra force to be considered.\n",
    "\n"
   ]
  },
  {
   "cell_type": "code",
   "execution_count": 18,
   "metadata": {},
   "outputs": [],
   "source": [
    "def move_planet2(position1, velocity1, position2, velocity2, m1, m2, m_star, dt):\n",
    "    \"\"\"\n",
    "    Calculate motion of planet in the gravitational field of a star with given mass\n",
    "    at the origin, using Euler's method.\n",
    "    \n",
    "    Input:\n",
    "      - position: position vector of planet at start of time step\n",
    "      - velocity: velocity vector of planet at start of time step\n",
    "      - m_star:   mass of star\n",
    "      - dt:       time step\n",
    "      \n",
    "    Output: (position_new, velocity_new)\n",
    "      - position_new: position vector of planet at end of time step\n",
    "      - velocity_new: velocity vector of planet at end of time step\n",
    "      \n",
    "    Depends on:\n",
    "      - force = function to calculate the gravitational force between two objects\n",
    "    \"\"\"\n",
    "    \n",
    "    # Equations (2), (3), (4) and (5)\n",
    "    dv1 = (force(position1, vector(0,0,0), 1, m_star) + force(position1, position2, 1, m2)) * dt\n",
    "    velocity_new1 = velocity1 + dv1\n",
    "    position_new1 = position1 + velocity1*dt\n",
    "    \n",
    "    dv2 = (force(position2, vector(0,0,0), 1, m_star) + force(position2, position1, 1, m1)) * dt\n",
    "    velocity_new2 = velocity2 + dv2\n",
    "    position_new2 = position2 + velocity2*dt\n",
    "    \n",
    "    return position_new1, velocity_new1, position_new2, velocity_new2\n",
    "    "
   ]
  },
  {
   "cell_type": "markdown",
   "metadata": {},
   "source": [
    "Since I had made function `move_planet2` with dependence on the masses of the planets, I also had to make `animate_planet3` to allow me to add the masses of the planets as function arguments."
   ]
  },
  {
   "cell_type": "code",
   "execution_count": 19,
   "metadata": {},
   "outputs": [],
   "source": [
    "def animate_planet3(position1, velocity1, position2, velocity2, m1, m2, m_star, dt):\n",
    "    \"\"\"\n",
    "    Animate planetary orbit from given starting position, with given time step.\n",
    "    \n",
    "    Input:\n",
    "      - position1: position vector of planet 1 at start of simulation\n",
    "      - velocity1: velocity vector of planet 1 at start of simulation\n",
    "      - position2: position vector of planet 2 at start of simulation\n",
    "      - velocity2: velocity vector of planet 2 at start of simulation\n",
    "      - m1:        mass of planet 1\n",
    "      - m2:        mass of planet 2\n",
    "      - m_star:    mass of star\n",
    "      - dt:        time step\n",
    "    \"\"\"\n",
    "\n",
    "    # Generating planet shapes\n",
    "    planet1 = sphere(pos=position1, color=color.yellow, radius=0.05, make_trail=True)\n",
    "    planet2 = sphere(pos=position2, color=color.green, radius=0.05, make_trail=True)\n",
    "    \n",
    "    # Setting up parameters\n",
    "    fps = 1/dt\n",
    "    time = 0\n",
    "    \n",
    "    # Iterating over a set period to repeatedly update the plenet's position, using move_planet\n",
    "    while time < 1: \n",
    "        rate(fps/10)\n",
    "        position1, velocity1, position2, velocity2 = move_planet2(position1, velocity1, position2, velocity2, m1, m2, m_star, dt)\n",
    "        planet1.pos = position1\n",
    "        planet2.pos = position2\n",
    "        time += dt"
   ]
  },
  {
   "cell_type": "code",
   "execution_count": 20,
   "metadata": {
    "scrolled": true
   },
   "outputs": [
    {
     "data": {
      "text/html": [
       "<div id=\"glowscript\" class=\"glowscript\"></div>"
      ],
      "text/plain": [
       "<IPython.core.display.HTML object>"
      ]
     },
     "metadata": {},
     "output_type": "display_data"
    },
    {
     "data": {
      "application/javascript": "if (typeof Jupyter !== \"undefined\") { window.__context = { glowscript_container: $(\"#glowscript\").removeAttr(\"id\")};}else{ element.textContent = ' ';}",
      "text/plain": [
       "<IPython.core.display.Javascript object>"
      ]
     },
     "metadata": {},
     "output_type": "display_data"
    }
   ],
   "source": [
    "# Initialize canvas, and set parameters of star and planet.\n",
    "canvas()\n",
    "m1 = 2 # define mass of first star\n",
    "m2 = 2 # define mass of second star\n",
    "sphere(pos=vector(0,0,0), color=color.yellow, radius=0.1) # draw star\n",
    "\n",
    "# Animate orbit of planet\n",
    "animate_planet3(pos_planet1, v_planet1, pos_planet2, v_planet2, m1, m2, m_star, 1e-4)"
   ]
  },
  {
   "cell_type": "markdown",
   "metadata": {},
   "source": [
    "In considering the forces between both planets, the orbital shapes of both planets change significantly. This is because the central force from the star to the planets is no longer the only force in the system. The forces between the planets now alter the magnitude of acceleration, causing the paths to change. "
   ]
  },
  {
   "cell_type": "markdown",
   "metadata": {},
   "source": [
    "### Further investigation\n",
    "Here, I decided to create a function that calculates the velocity for an object travelling under uniform circular motion. I then went on to model a planet and a moon, after having considered various initial conditions."
   ]
  },
  {
   "cell_type": "markdown",
   "metadata": {},
   "source": [
    "The derivation for the tangential velocity of an object performing uniform circular motion involves equation (1), as well as the equation $$ F = -\\frac{mv^2}{r} $$ (Angular Momentum and Central Forces, 2021) and is as follows:\n",
    "***\n",
    "$ -\\frac{GMm}{r^2} = -\\frac{mv^2}{r} $ <br>\n",
    "$ \\frac{GM}{r} = v^2 $ <br>\n",
    "$ \\sqrt{\\frac{GM}{r}} = v $\n",
    "***\n",
    "\n",
    "Additionally, the direction of the velocity vector needs to be taken into account. To calculate this, I took the cross product of the radius and the vector $(0, 0, 1)$, pointing in the page (any parallel to this vector works as well). This is because the velocity here is __tangential__, and it will therefore be perpendicular to the radial vector, but also confined to the plane of the orbit (perpendicular to vector $(0, 0, 1)$ and others parellel to it)."
   ]
  },
  {
   "cell_type": "code",
   "execution_count": 21,
   "metadata": {},
   "outputs": [],
   "source": [
    "def circular_velocity(G, M, r):\n",
    "    '''\n",
    "    Calculates the velocity of an object travelling in a circular orbit due \n",
    "    to a gravitational force provided by a central object\n",
    "    \n",
    "    Input:\n",
    "      - G: gravitational constant\n",
    "      - M: mass of the central object\n",
    "      - r: distance from the central object\n",
    "      \n",
    "    Output:\n",
    "      - velocity: tangential velocity of the orbiting object\n",
    "    '''\n",
    "    \n",
    "    # Calculating the direction of the velocity vector using the cross product\n",
    "    velocity_direction = cross(r, vector(0,0,1))\n",
    "    \n",
    "    velocity = (G*M / mag(r)) ** 0.5 * velocity_direction / mag(velocity_direction)\n",
    "    \n",
    "    return velocity\n",
    "    \n",
    "    "
   ]
  },
  {
   "cell_type": "markdown",
   "metadata": {},
   "source": [
    "When attempting to model the simulation, I initially thought that it would be best to give the moon 1/100 the mass of the planet, given that this is a similar ratio to that of our moon, and this would affect the path of the planet minimally. I then also made sure that the moon was in close proximity of the planet, such that the gravitational force would be enough to permit an orbit. After considering values for velocity, I realised that assigning one component to be the same as the translational velocity as the planet, as well as giving it a perpendicular orbital velocity component using function `circular_velocity`, allowed the moon to orbit the planet. "
   ]
  },
  {
   "cell_type": "code",
   "execution_count": 23,
   "metadata": {
    "scrolled": true
   },
   "outputs": [
    {
     "data": {
      "text/html": [
       "<div id=\"glowscript\" class=\"glowscript\"></div>"
      ],
      "text/plain": [
       "<IPython.core.display.HTML object>"
      ]
     },
     "metadata": {},
     "output_type": "display_data"
    },
    {
     "data": {
      "application/javascript": "if (typeof Jupyter !== \"undefined\") { window.__context = { glowscript_container: $(\"#glowscript\").removeAttr(\"id\")};}else{ element.textContent = ' ';}",
      "text/plain": [
       "<IPython.core.display.Javascript object>"
      ]
     },
     "metadata": {},
     "output_type": "display_data"
    }
   ],
   "source": [
    "# Initialize canvas, and set parameters of star and planet.\n",
    "canvas()\n",
    "sphere(pos=vector(0,0,0), color=color.yellow, radius=0.1) # draw star\n",
    "\n",
    "m1 = 1 # mass of the planet\n",
    "m2 = 0.01 # mass of the moon\n",
    "\n",
    "pos1 = vector(3,0,0)\n",
    "pos2 = vector(3,-0.4,0)\n",
    "\n",
    "v1 = circular_velocity(G, m_star, pos1)\n",
    "v2 = vector(mag(circular_velocity(G, m2, pos2)), -mag(v1), 0)\n",
    "\n",
    "# Animate orbit of planet\n",
    "animate_planet3(pos1, v1, pos2, v2, m1, m2, m_star, 1e-4)\n",
    "\n"
   ]
  },
  {
   "cell_type": "markdown",
   "metadata": {},
   "source": [
    "## References"
   ]
  },
  {
   "cell_type": "markdown",
   "metadata": {},
   "source": [
    "* Waugh, B., Chislett, R. and Dash, L. (2021). _\"PHAS0007 Computing Final Assignment 2020-21: Simulating Planetary Orbits\"_. UCL Moodle resource available from https://moodle.ucl.ac.uk/pluginfile.php/3716400/mod_resource/content/3/FinalAssignment.pdf\n",
    "\n",
    "* (2021). _\"Angular Momentum and Central Forces\"_. UCL Moodle resource available from https://moodle.ucl.ac.uk/pluginfile.php/3596314/mod_resource/content/3/note_5.1.pdf"
   ]
  }
 ],
 "metadata": {
  "kernelspec": {
   "display_name": "phas0030",
   "language": "python",
   "name": "python3"
  },
  "language_info": {
   "codemirror_mode": {
    "name": "ipython",
    "version": 3
   },
   "file_extension": ".py",
   "mimetype": "text/x-python",
   "name": "python",
   "nbconvert_exporter": "python",
   "pygments_lexer": "ipython3",
   "version": "3.10.8 (main, Nov 24 2022, 08:08:27) [Clang 14.0.6 ]"
  },
  "toc": {
   "base_numbering": 1,
   "nav_menu": {},
   "number_sections": false,
   "sideBar": true,
   "skip_h1_title": false,
   "title_cell": "Table of Contents",
   "title_sidebar": "Contents",
   "toc_cell": false,
   "toc_position": {},
   "toc_section_display": true,
   "toc_window_display": false
  },
  "vscode": {
   "interpreter": {
    "hash": "4518af48748a97daa55501d20bc1e926409bd0a2fb582210d86abfca2c7c5dfa"
   }
  }
 },
 "nbformat": 4,
 "nbformat_minor": 4
}
